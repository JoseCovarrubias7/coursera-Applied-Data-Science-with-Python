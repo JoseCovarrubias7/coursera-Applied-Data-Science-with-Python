{
 "cells": [
  {
   "cell_type": "markdown",
   "metadata": {
    "deletable": false,
    "editable": false,
    "nbgrader": {
     "cell_type": "markdown",
     "checksum": "e54c4493f1c9d4aa91fe9712e827ee6b",
     "grade": false,
     "grade_id": "cell-61a01867bc1feb33",
     "locked": true,
     "schema_version": 3,
     "solution": false,
     "task": false
    }
   },
   "source": [
    "# Assignment 4"
   ]
  },
  {
   "cell_type": "code",
   "execution_count": 62,
   "metadata": {
    "deletable": false,
    "editable": false,
    "nbgrader": {
     "cell_type": "code",
     "checksum": "8555f884d1a86e615633814fe0640fa9",
     "grade": false,
     "grade_id": "cell-04d6d26d762f743a",
     "locked": true,
     "schema_version": 3,
     "solution": false,
     "task": false
    }
   },
   "outputs": [],
   "source": [
    "import networkx as nx\n",
    "import pandas as pd\n",
    "import numpy as np\n",
    "import pickle"
   ]
  },
  {
   "cell_type": "markdown",
   "metadata": {
    "deletable": false,
    "editable": false,
    "nbgrader": {
     "cell_type": "markdown",
     "checksum": "99922dd6143eeaef285c41827744b7a0",
     "grade": false,
     "grade_id": "cell-f68117773f9bf0d9",
     "locked": true,
     "schema_version": 3,
     "solution": false,
     "task": false
    },
    "tags": []
   },
   "source": [
    "import networkx as nx\n",
    "import pandas as pd\n",
    "import numpy as np\n",
    "import pickle\n",
    "from collections import Counter\n",
    "import matplotlib.pyplot as plt\n",
    "from sklearn.preprocessing import (StandardScaler, MinMaxScaler)\n",
    "from sklearn.ensemble import RandomForestClassifier\n",
    "from sklearn.neural_network import MLPClassifier\n",
    "from sklearn.metrics import accuracy_scoreimport networkx as nx\n",
    "import pandas as pd\n",
    "import numpy as np\n",
    "import pickle\n",
    "from collections import Counter\n",
    "import matplotlib.pyplot as plt\n",
    "from sklearn.preprocessing import (StandardScaler, MinMaxScaler)\n",
    "from sklearn.ensemble import RandomForestClassifier\n",
    "from sklearn.neural_network import MLPClassifier\n",
    "from sklearn.metrics import accuracy_score---\n",
    "\n",
    "## Part 1 - Random Graph Identification\n",
    "\n",
    "For the first part of this assignment you will analyze randomly generated graphs and determine which algorithm created them."
   ]
  },
  {
   "cell_type": "code",
   "execution_count": 221,
   "metadata": {},
   "outputs": [],
   "source": [
    "import networkx as nx\n",
    "import pandas as pd\n",
    "import numpy as np\n",
    "import pickle\n",
    "from collections import Counter\n",
    "import matplotlib.pyplot as plt\n",
    "from sklearn.preprocessing import (StandardScaler, MinMaxScaler)\n",
    "from sklearn.ensemble import RandomForestClassifier\n",
    "from sklearn.neural_network import MLPClassifier\n",
    "from sklearn.metrics import accuracy_score"
   ]
  },
  {
   "cell_type": "code",
   "execution_count": 64,
   "metadata": {
    "deletable": false,
    "editable": false,
    "nbgrader": {
     "cell_type": "code",
     "checksum": "2ae08b113b809baff307431969e91c41",
     "grade": false,
     "grade_id": "cell-ed6a16bb300e1f0b",
     "locked": true,
     "schema_version": 3,
     "solution": false,
     "task": false
    }
   },
   "outputs": [],
   "source": [
    "G1 = nx.read_gpickle(\"assets/A4_P1_G1\")\n",
    "G2 = nx.read_gpickle(\"assets/A4_P1_G2\")\n",
    "G3 = nx.read_gpickle(\"assets/A4_P1_G3\")\n",
    "G4 = nx.read_gpickle(\"assets/A4_P1_G4\")\n",
    "G5 = nx.read_gpickle(\"assets/A4_P1_G5\")\n",
    "P1_Graphs = [G1, G2, G3, G4, G5]"
   ]
  },
  {
   "cell_type": "code",
   "execution_count": 65,
   "metadata": {},
   "outputs": [
    {
     "data": {
      "text/plain": [
       "[<networkx.classes.graph.Graph at 0x7fd87555acd0>,\n",
       " <networkx.classes.graph.Graph at 0x7fd875594760>,\n",
       " <networkx.classes.graph.Graph at 0x7fd875610820>,\n",
       " <networkx.classes.graph.Graph at 0x7fd87553fa30>,\n",
       " <networkx.classes.graph.Graph at 0x7fd8755c6a60>]"
      ]
     },
     "execution_count": 65,
     "metadata": {},
     "output_type": "execute_result"
    }
   ],
   "source": [
    "P1_Graphs\n"
   ]
  },
  {
   "cell_type": "code",
   "execution_count": 66,
   "metadata": {},
   "outputs": [
    {
     "data": {
      "text/plain": [
       "[(1000, 999), (1000, 2000), (1000, 2000), (1000, 999), (1000, 2000)]"
      ]
     },
     "execution_count": 66,
     "metadata": {},
     "output_type": "execute_result"
    }
   ],
   "source": [
    "# all have 1000 nodes!\n",
    "\n",
    "[(graph.number_of_nodes(), graph.number_of_edges()) for graph in P1_Graphs]"
   ]
  },
  {
   "cell_type": "code",
   "execution_count": 67,
   "metadata": {},
   "outputs": [],
   "source": [
    "sorted(nx.preferential_attachment(G1), reverse = True, key = lambda tup: tup[2]);\n"
   ]
  },
  {
   "cell_type": "markdown",
   "metadata": {
    "deletable": false,
    "editable": false,
    "nbgrader": {
     "cell_type": "markdown",
     "checksum": "d6923b1a3243b7f2bb924427ff90908c",
     "grade": false,
     "grade_id": "cell-7f9c00e2ae0855df",
     "locked": true,
     "schema_version": 3,
     "solution": false,
     "task": false
    }
   },
   "source": [
    "<br>\n",
    "`P1_Graphs` is a list containing 5 networkx graphs. Each of these graphs were generated by one of three possible algorithms:\n",
    "* Preferential Attachment (`'PA'`)\n",
    "* Small World with low probability of rewiring (`'SW_L'`)\n",
    "* Small World with high probability of rewiring (`'SW_H'`)\n",
    "\n",
    "Anaylze each of the 5 graphs using any methodology and determine which of the three algorithms generated each graph.\n",
    "\n",
    "*The `graph_identification` function should return a list of length 5 where each element in the list is either `'PA'`, `'SW_L'`, or `'SW_H'`.*"
   ]
  },
  {
   "cell_type": "code",
   "execution_count": 68,
   "metadata": {},
   "outputs": [
    {
     "data": {
      "text/plain": [
       "[0.0, 0.49310000000000004, 0.4897333333333334, 0.0, 0.36504285714285717]"
      ]
     },
     "execution_count": 68,
     "metadata": {},
     "output_type": "execute_result"
    }
   ],
   "source": [
    "[nx.average_clustering(graph) for graph in P1_Graphs]\n"
   ]
  },
  {
   "cell_type": "code",
   "execution_count": 69,
   "metadata": {},
   "outputs": [
    {
     "data": {
      "text/plain": [
       "[6.530506506506507,\n",
       " 43.80284684684685,\n",
       " 39.007695695695695,\n",
       " 8.158990990990992,\n",
       " 8.532046046046046]"
      ]
     },
     "execution_count": 69,
     "metadata": {},
     "output_type": "execute_result"
    }
   ],
   "source": [
    "[nx.average_shortest_path_length(graph) for graph in P1_Graphs]\n"
   ]
  },
  {
   "cell_type": "code",
   "execution_count": 70,
   "metadata": {},
   "outputs": [],
   "source": [
    "G1.degree();\n"
   ]
  },
  {
   "cell_type": "code",
   "execution_count": 71,
   "metadata": {
    "deletable": false,
    "nbgrader": {
     "cell_type": "code",
     "checksum": "0ff06107761a8aae493e00bd5375ddcf",
     "grade": false,
     "grade_id": "cell-c8c5e35d8114420d",
     "locked": false,
     "schema_version": 3,
     "solution": true,
     "task": false
    }
   },
   "outputs": [],
   "source": [
    "def plot_degree_distribution(graph) -> None:\n",
    "    \n",
    "    nnodes = graph.number_of_nodes()\n",
    "    ddist = Counter([degree for (node, degree) in graph.degree()])\n",
    "    \n",
    "    fig, axes = plt.subplots(nrows = 1, ncols = 1)\n",
    "    fig.set_size_inches(5, 5)\n",
    "    axes.plot(ddist.keys(), ddist.values(), color = \"red\", marker = \"o\", linestyle = \"None\", markeredgecolor = \"black\")\n",
    "    axes.set_xlabel(\"Degrees\")\n",
    "    axes.set_xscale(\"log\")\n",
    "    axes.set_yscale(\"log\")\n",
    "    axes.set_ylabel(\"Fraction of nodes\")\n",
    "    plt.show()"
   ]
  },
  {
   "cell_type": "code",
   "execution_count": 72,
   "metadata": {},
   "outputs": [
    {
     "data": {
      "image/png": "[encoded data removed]",
      "text/plain": [
       "<Figure size 500x500 with 1 Axes>"
      ]
     },
     "metadata": {},
     "output_type": "display_data"
    }
   ],
   "source": [
    "plot_degree_distribution(G1)\n"
   ]
  },
  {
   "cell_type": "code",
   "execution_count": 73,
   "metadata": {},
   "outputs": [
    {
     "data": {
      "image/png": "[encoded data removed]",
      "text/plain": [
       "<Figure size 500x500 with 1 Axes>"
      ]
     },
     "metadata": {},
     "output_type": "display_data"
    }
   ],
   "source": [
    "plot_degree_distribution(G2)\n"
   ]
  },
  {
   "cell_type": "code",
   "execution_count": 74,
   "metadata": {},
   "outputs": [
    {
     "data": {
      "image/png": "[encoded data removed]",
      "text/plain": [
       "<Figure size 500x500 with 1 Axes>"
      ]
     },
     "metadata": {},
     "output_type": "display_data"
    }
   ],
   "source": [
    "plot_degree_distribution(G3)\n"
   ]
  },
  {
   "cell_type": "code",
   "execution_count": 75,
   "metadata": {},
   "outputs": [
    {
     "data": {
      "image/png": "[encoded data removed]",
      "text/plain": [
       "<Figure size 500x500 with 1 Axes>"
      ]
     },
     "metadata": {},
     "output_type": "display_data"
    }
   ],
   "source": [
    "plot_degree_distribution(G4)\n"
   ]
  },
  {
   "cell_type": "code",
   "execution_count": 76,
   "metadata": {},
   "outputs": [
    {
     "data": {
      "image/png": "[encoded data removed]",
      "text/plain": [
       "<Figure size 500x500 with 1 Axes>"
      ]
     },
     "metadata": {},
     "output_type": "display_data"
    }
   ],
   "source": [
    "plot_degree_distribution(G5)\n"
   ]
  },
  {
   "cell_type": "code",
   "execution_count": 77,
   "metadata": {},
   "outputs": [
    {
     "data": {
      "text/plain": [
       "[(0.0, 6.530506506506507),\n",
       " (0.49310000000000004, 43.80284684684685),\n",
       " (0.4897333333333334, 39.007695695695695),\n",
       " (0.0, 8.158990990990992),\n",
       " (0.36504285714285717, 8.532046046046046)]"
      ]
     },
     "execution_count": 77,
     "metadata": {},
     "output_type": "execute_result"
    }
   ],
   "source": [
    "[(nx.average_clustering(graph), nx.average_shortest_path_length(graph)) for graph in P1_Graphs]\n"
   ]
  },
  {
   "cell_type": "code",
   "execution_count": 78,
   "metadata": {},
   "outputs": [],
   "source": [
    "# Preferential attachment - nx.barabasi_albert_graph\n",
    "# Samll World - nx.watts_strogatz_graph\n",
    "\n",
    "def graph_identification():\n",
    "    return [\"PA\", \"SW_L\", \"SW_L\", \"PA\", \"SW_H\"]"
   ]
  },
  {
   "cell_type": "code",
   "execution_count": 79,
   "metadata": {
    "deletable": false,
    "editable": false,
    "nbgrader": {
     "cell_type": "code",
     "checksum": "34772a15ef373a444ae7597d2005254b",
     "grade": true,
     "grade_id": "cell-efb9da7e1c19accf",
     "locked": true,
     "points": 1,
     "schema_version": 3,
     "solution": false,
     "task": false
    }
   },
   "outputs": [],
   "source": [
    "ans_one = graph_identification()\n",
    "assert type(ans_one) == list, \"You must return a list\"\n"
   ]
  },
  {
   "cell_type": "markdown",
   "metadata": {
    "deletable": false,
    "editable": false,
    "nbgrader": {
     "cell_type": "markdown",
     "checksum": "24751ee5132e6ae445b370a534718f46",
     "grade": false,
     "grade_id": "cell-a8b02acc0a67f5cb",
     "locked": true,
     "schema_version": 3,
     "solution": false,
     "task": false
    }
   },
   "source": [
    "---\n",
    "\n",
    "## Part 2 - Company Emails\n",
    "\n",
    "For the second part of this assignment you will be working with a company's email network where each node corresponds to a person at the company, and each edge indicates that at least one email has been sent between two people.\n",
    "\n",
    "The network also contains the node attributes `Department` and `ManagmentSalary`.\n",
    "\n",
    "`Department` indicates the department in the company which the person belongs to, and `ManagmentSalary` indicates whether that person is receiving a managment position salary."
   ]
  },
  {
   "cell_type": "code",
   "execution_count": 167,
   "metadata": {
    "deletable": false,
    "editable": false,
    "nbgrader": {
     "cell_type": "code",
     "checksum": "e722c34a6345262e25f7b6f3aa9ea24f",
     "grade": false,
     "grade_id": "cell-8318572a20542eb0",
     "locked": true,
     "schema_version": 3,
     "solution": false,
     "task": false
    }
   },
   "outputs": [
    {
     "name": "stdout",
     "output_type": "stream",
     "text": [
      "Graph with 1005 nodes and 16706 edges\n"
     ]
    }
   ],
   "source": [
    "G = pickle.load(open('assets/email_prediction_NEW.txt', 'rb'))\n",
    "\n",
    "print(f\"Graph with {len(nx.nodes(G))} nodes and {len(nx.edges(G))} edges\")"
   ]
  },
  {
   "cell_type": "markdown",
   "metadata": {
    "deletable": false,
    "editable": false,
    "nbgrader": {
     "cell_type": "markdown",
     "checksum": "fce5fb3b46c870ef3a396d6272fb5741",
     "grade": false,
     "grade_id": "cell-e87009c4bfab6968",
     "locked": true,
     "schema_version": 3,
     "solution": false,
     "task": false
    }
   },
   "source": [
    "nx.is_directed(G)\n",
    "### Part 2A - Salary Prediction\n",
    "\n",
    "Using network `G`, identify the people in the network with missing values for the node attribute `ManagementSalary` and predict whether or not these individuals are receiving a managment position salary.\n",
    "\n",
    "To accomplish this, you will need to create a matrix of node features of your choice using networkx, train a sklearn classifier on nodes that have `ManagementSalary` data, and predict a probability of the node receiving a managment salary for nodes where `ManagementSalary` is missing.\n",
    "\n",
    "\n",
    "\n",
    "Your predictions will need to be given as the probability that the corresponding employee is receiving a managment position salary.\n",
    "\n",
    "The evaluation metric for this assignment is the Area Under the ROC Curve (AUC).\n",
    "\n",
    "Your grade will be based on the AUC score computed for your classifier. A model which with an AUC of 0.75 or higher will recieve full points.\n",
    "\n",
    "Using your trained classifier, return a Pandas series of length 252 with the data being the probability of receiving managment salary, and the index being the node id.\n",
    "\n",
    "    Example:\n",
    "    \n",
    "        1       1.0\n",
    "        2       0.0\n",
    "        5       0.8\n",
    "        8       1.0\n",
    "            ...\n",
    "        996     0.7\n",
    "        1000    0.5\n",
    "        1001    0.0\n",
    "        Length: 252, dtype: float64"
   ]
  },
  {
   "cell_type": "code",
   "execution_count": 222,
   "metadata": {},
   "outputs": [
    {
     "data": {
      "text/plain": [
       "False"
      ]
     },
     "execution_count": 222,
     "metadata": {},
     "output_type": "execute_result"
    }
   ],
   "source": [
    "nx.is_directed(G)\n"
   ]
  },
  {
   "cell_type": "code",
   "execution_count": 223,
   "metadata": {},
   "outputs": [
    {
     "data": {
      "text/plain": [
       "81.94117647058823"
      ]
     },
     "execution_count": 223,
     "metadata": {},
     "output_type": "execute_result"
    }
   ],
   "source": [
    "np.mean([G.degree()[node] for node in G.nodes() if nx.get_node_attributes(G, \"ManagementSalary\")[node] == 1])\n"
   ]
  },
  {
   "cell_type": "code",
   "execution_count": 224,
   "metadata": {},
   "outputs": [
    {
     "data": {
      "text/plain": [
       "24.613564668769715"
      ]
     },
     "execution_count": 224,
     "metadata": {},
     "output_type": "execute_result"
    }
   ],
   "source": [
    "np.mean([G.degree()[node] for node in G.nodes() if nx.get_node_attributes(G, \"ManagementSalary\")[node] == 0])\n"
   ]
  },
  {
   "cell_type": "code",
   "execution_count": 225,
   "metadata": {
    "deletable": false,
    "editable": false,
    "nbgrader": {
     "cell_type": "code",
     "checksum": "d02e4f542d1aa318bbf2d31a4190f873",
     "grade": false,
     "grade_id": "cell-5980e664930b216a",
     "locked": true,
     "schema_version": 3,
     "solution": false,
     "task": false
    }
   },
   "outputs": [
    {
     "data": {
      "text/plain": [
       "[(0, {'Department': 1, 'ManagementSalary': 0.0}),\n",
       " (1, {'Department': 1, 'ManagementSalary': nan}),\n",
       " (581, {'Department': 3, 'ManagementSalary': 0.0}),\n",
       " (6, {'Department': 25, 'ManagementSalary': 1.0}),\n",
       " (65, {'Department': 4, 'ManagementSalary': nan})]"
      ]
     },
     "execution_count": 225,
     "metadata": {},
     "output_type": "execute_result"
    }
   ],
   "source": [
    "list(G.nodes(data=True))[:5] # print the first 5 nodes"
   ]
  },
  {
   "cell_type": "code",
   "execution_count": 226,
   "metadata": {},
   "outputs": [],
   "source": [
    "list(nx.neighbors(G, 1));\n"
   ]
  },
  {
   "cell_type": "code",
   "execution_count": 233,
   "metadata": {},
   "outputs": [],
   "source": [
    "dep = nx.get_node_attributes(G, \"Department\");\n",
    "mgmt_salary = nx.get_node_attributes(G, \"ManagementSalary\");\n",
    "degrees = dict(nx.degree(G));"
   ]
  },
  {
   "cell_type": "code",
   "execution_count": 238,
   "metadata": {},
   "outputs": [],
   "source": [
    "# and number of neighbours who receive a management salary\n",
    "\n",
    "neighbours_with_mgmt_salary = dict.fromkeys(G.nodes(), 0)\n",
    "node_mgmt_attrs = nx.get_node_attributes(G, \"ManagementSalary\")\n",
    "\n",
    "for node in G.nodes():\n",
    "    for neighbour in nx.neighbors(G, node):\n",
    "        if node_mgmt_attrs.get(neighbour) == 1:\n",
    "            neighbours_with_mgmt_salary[node] += 1"
   ]
  },
  {
   "cell_type": "code",
   "execution_count": 239,
   "metadata": {},
   "outputs": [],
   "source": [
    "# number of neighbours from the same department who also receive a management salary\n",
    "\n",
    "neighbours_with_mgmt_salary_same_dept = dict.fromkeys(G.nodes(), 0)\n",
    "node_mgmt_attrs = nx.get_node_attributes(G, \"ManagementSalary\")\n",
    "node_dept_attrs = nx.get_node_attributes(G, \"Department\")\n",
    "\n",
    "for node in G.nodes():\n",
    "    for neighbour in nx.neighbors(G, node):\n",
    "        if (node_mgmt_attrs.get(neighbour) == 1) and (node_dept_attrs.get(node) == node_dept_attrs.get(neighbour)):\n",
    "            neighbours_with_mgmt_salary_same_dept[node] += 1"
   ]
  },
  {
   "cell_type": "code",
   "execution_count": 240,
   "metadata": {},
   "outputs": [
    {
     "data": {
      "text/html": [
       "<div>\n",
       "<style scoped>\n",
       "    .dataframe tbody tr th:only-of-type {\n",
       "        vertical-align: middle;\n",
       "    }\n",
       "\n",
       "    .dataframe tbody tr th {\n",
       "        vertical-align: top;\n",
       "    }\n",
       "\n",
       "    .dataframe thead th {\n",
       "        text-align: right;\n",
       "    }\n",
       "</style>\n",
       "<table border=\"1\" class=\"dataframe\">\n",
       "  <thead>\n",
       "    <tr style=\"text-align: right;\">\n",
       "      <th></th>\n",
       "      <th>0</th>\n",
       "      <th>1</th>\n",
       "      <th>2</th>\n",
       "      <th>3</th>\n",
       "      <th>4</th>\n",
       "    </tr>\n",
       "  </thead>\n",
       "  <tbody>\n",
       "    <tr>\n",
       "      <th>0</th>\n",
       "      <td>1.0</td>\n",
       "      <td>0.0</td>\n",
       "      <td>44.0</td>\n",
       "      <td>6.0</td>\n",
       "      <td>0.0</td>\n",
       "    </tr>\n",
       "    <tr>\n",
       "      <th>1</th>\n",
       "      <td>1.0</td>\n",
       "      <td>NaN</td>\n",
       "      <td>52.0</td>\n",
       "      <td>15.0</td>\n",
       "      <td>0.0</td>\n",
       "    </tr>\n",
       "    <tr>\n",
       "      <th>2</th>\n",
       "      <td>21.0</td>\n",
       "      <td>NaN</td>\n",
       "      <td>95.0</td>\n",
       "      <td>31.0</td>\n",
       "      <td>9.0</td>\n",
       "    </tr>\n",
       "    <tr>\n",
       "      <th>3</th>\n",
       "      <td>21.0</td>\n",
       "      <td>1.0</td>\n",
       "      <td>71.0</td>\n",
       "      <td>24.0</td>\n",
       "      <td>9.0</td>\n",
       "    </tr>\n",
       "    <tr>\n",
       "      <th>4</th>\n",
       "      <td>21.0</td>\n",
       "      <td>1.0</td>\n",
       "      <td>96.0</td>\n",
       "      <td>35.0</td>\n",
       "      <td>9.0</td>\n",
       "    </tr>\n",
       "    <tr>\n",
       "      <th>...</th>\n",
       "      <td>...</td>\n",
       "      <td>...</td>\n",
       "      <td>...</td>\n",
       "      <td>...</td>\n",
       "      <td>...</td>\n",
       "    </tr>\n",
       "    <tr>\n",
       "      <th>1000</th>\n",
       "      <td>4.0</td>\n",
       "      <td>NaN</td>\n",
       "      <td>6.0</td>\n",
       "      <td>3.0</td>\n",
       "      <td>2.0</td>\n",
       "    </tr>\n",
       "    <tr>\n",
       "      <th>1001</th>\n",
       "      <td>21.0</td>\n",
       "      <td>NaN</td>\n",
       "      <td>10.0</td>\n",
       "      <td>3.0</td>\n",
       "      <td>2.0</td>\n",
       "    </tr>\n",
       "    <tr>\n",
       "      <th>1002</th>\n",
       "      <td>1.0</td>\n",
       "      <td>0.0</td>\n",
       "      <td>1.0</td>\n",
       "      <td>1.0</td>\n",
       "      <td>0.0</td>\n",
       "    </tr>\n",
       "    <tr>\n",
       "      <th>1003</th>\n",
       "      <td>6.0</td>\n",
       "      <td>0.0</td>\n",
       "      <td>1.0</td>\n",
       "      <td>0.0</td>\n",
       "      <td>0.0</td>\n",
       "    </tr>\n",
       "    <tr>\n",
       "      <th>1004</th>\n",
       "      <td>22.0</td>\n",
       "      <td>0.0</td>\n",
       "      <td>1.0</td>\n",
       "      <td>0.0</td>\n",
       "      <td>0.0</td>\n",
       "    </tr>\n",
       "  </tbody>\n",
       "</table>\n",
       "<p>1005 rows × 5 columns</p>\n",
       "</div>"
      ],
      "text/plain": [
       "         0    1     2     3    4\n",
       "0      1.0  0.0  44.0   6.0  0.0\n",
       "1      1.0  NaN  52.0  15.0  0.0\n",
       "2     21.0  NaN  95.0  31.0  9.0\n",
       "3     21.0  1.0  71.0  24.0  9.0\n",
       "4     21.0  1.0  96.0  35.0  9.0\n",
       "...    ...  ...   ...   ...  ...\n",
       "1000   4.0  NaN   6.0   3.0  2.0\n",
       "1001  21.0  NaN  10.0   3.0  2.0\n",
       "1002   1.0  0.0   1.0   1.0  0.0\n",
       "1003   6.0  0.0   1.0   0.0  0.0\n",
       "1004  22.0  0.0   1.0   0.0  0.0\n",
       "\n",
       "[1005 rows x 5 columns]"
      ]
     },
     "execution_count": 240,
     "metadata": {},
     "output_type": "execute_result"
    }
   ],
   "source": [
    "pd.DataFrame([dep, mgmt_salary, degrees, neighbours_with_mgmt_salary, neighbours_with_mgmt_salary_same_dept]).T.sort_index()\n"
   ]
  },
  {
   "cell_type": "code",
   "execution_count": 241,
   "metadata": {},
   "outputs": [
    {
     "data": {
      "text/plain": [
       "(dict, dict, dict, dict)"
      ]
     },
     "execution_count": 241,
     "metadata": {},
     "output_type": "execute_result"
    }
   ],
   "source": [
    "type(node_dept_attrs), type(node_mgmt_attrs), type(neighbours_with_mgmt_salary_same_dept), type(neighbours_with_mgmt_salary)\n"
   ]
  },
  {
   "cell_type": "code",
   "execution_count": 242,
   "metadata": {},
   "outputs": [],
   "source": [
    "sorted(node_dept_attrs.items());\n"
   ]
  },
  {
   "cell_type": "code",
   "execution_count": 243,
   "metadata": {},
   "outputs": [],
   "source": [
    "def sort_dict_values_keys(dictionary: dict) -> list:\n",
    "    return [val for (key, val) in sorted(dictionary.items(), reverse = False)]"
   ]
  },
  {
   "cell_type": "code",
   "execution_count": 244,
   "metadata": {},
   "outputs": [],
   "source": [
    "ccentrality = sort_dict_values_keys(nx.closeness_centrality(G))\n",
    "bwcentrality = sort_dict_values_keys(nx.betweenness_centrality(G))"
   ]
  },
  {
   "cell_type": "code",
   "execution_count": 245,
   "metadata": {},
   "outputs": [],
   "source": [
    "employees = pd.DataFrame({\"Department\": sort_dict_values_keys(dep), \"ManagementSalary\": sort_dict_values_keys(mgmt_salary),\n",
    "             \"NeighboursMgmtSameDept\": sort_dict_values_keys(neighbours_with_mgmt_salary_same_dept),\n",
    "            \"NeighboursMgmt\": sort_dict_values_keys(neighbours_with_mgmt_salary), \"Degree\": sort_dict_values_keys(degrees),\n",
    "            \"ClosenessCentrality\": ccentrality, \"BetweennessCentrality\": bwcentrality})"
   ]
  },
  {
   "cell_type": "code",
   "execution_count": 246,
   "metadata": {},
   "outputs": [
    {
     "data": {
      "text/plain": [
       "(1005, 7)"
      ]
     },
     "execution_count": 246,
     "metadata": {},
     "output_type": "execute_result"
    }
   ],
   "source": [
    "employees.shape\n"
   ]
  },
  {
   "cell_type": "code",
   "execution_count": 247,
   "metadata": {},
   "outputs": [],
   "source": [
    "train_x = employees.dropna(axis = 0).drop(\"ManagementSalary\", axis = 1)\n"
   ]
  },
  {
   "cell_type": "code",
   "execution_count": 248,
   "metadata": {},
   "outputs": [],
   "source": [
    "train_y = employees.dropna(axis = 0).loc[:, \"ManagementSalary\"]\n"
   ]
  },
  {
   "cell_type": "code",
   "execution_count": 249,
   "metadata": {},
   "outputs": [],
   "source": [
    "test_x = employees.loc[employees.ManagementSalary.isna(), :].drop(\"ManagementSalary\", axis = 1)\n"
   ]
  },
  {
   "cell_type": "code",
   "execution_count": 250,
   "metadata": {},
   "outputs": [
    {
     "data": {
      "text/plain": [
       "Int64Index([   1,    2,    5,    8,   14,   18,   27,   30,   31,   34,\n",
       "            ...\n",
       "             974,  984,  987,  989,  991,  992,  994,  996, 1000, 1001],\n",
       "           dtype='int64', length=252)"
      ]
     },
     "execution_count": 250,
     "metadata": {},
     "output_type": "execute_result"
    }
   ],
   "source": [
    "test_x.index\n"
   ]
  },
  {
   "cell_type": "code",
   "execution_count": 251,
   "metadata": {},
   "outputs": [
    {
     "data": {
      "text/html": [
       "<div>\n",
       "<style scoped>\n",
       "    .dataframe tbody tr th:only-of-type {\n",
       "        vertical-align: middle;\n",
       "    }\n",
       "\n",
       "    .dataframe tbody tr th {\n",
       "        vertical-align: top;\n",
       "    }\n",
       "\n",
       "    .dataframe thead th {\n",
       "        text-align: right;\n",
       "    }\n",
       "</style>\n",
       "<table border=\"1\" class=\"dataframe\">\n",
       "  <thead>\n",
       "    <tr style=\"text-align: right;\">\n",
       "      <th></th>\n",
       "      <th>Department</th>\n",
       "      <th>NeighboursMgmtSameDept</th>\n",
       "      <th>NeighboursMgmt</th>\n",
       "      <th>Degree</th>\n",
       "      <th>ClosenessCentrality</th>\n",
       "      <th>BetweennessCentrality</th>\n",
       "    </tr>\n",
       "  </thead>\n",
       "  <tbody>\n",
       "    <tr>\n",
       "      <th>0</th>\n",
       "      <td>1</td>\n",
       "      <td>0</td>\n",
       "      <td>6</td>\n",
       "      <td>44</td>\n",
       "      <td>0.421991</td>\n",
       "      <td>0.001124</td>\n",
       "    </tr>\n",
       "    <tr>\n",
       "      <th>3</th>\n",
       "      <td>21</td>\n",
       "      <td>9</td>\n",
       "      <td>24</td>\n",
       "      <td>71</td>\n",
       "      <td>0.441663</td>\n",
       "      <td>0.001654</td>\n",
       "    </tr>\n",
       "    <tr>\n",
       "      <th>4</th>\n",
       "      <td>21</td>\n",
       "      <td>9</td>\n",
       "      <td>35</td>\n",
       "      <td>96</td>\n",
       "      <td>0.462152</td>\n",
       "      <td>0.005547</td>\n",
       "    </tr>\n",
       "    <tr>\n",
       "      <th>6</th>\n",
       "      <td>25</td>\n",
       "      <td>3</td>\n",
       "      <td>34</td>\n",
       "      <td>115</td>\n",
       "      <td>0.475805</td>\n",
       "      <td>0.012387</td>\n",
       "    </tr>\n",
       "    <tr>\n",
       "      <th>7</th>\n",
       "      <td>14</td>\n",
       "      <td>4</td>\n",
       "      <td>6</td>\n",
       "      <td>72</td>\n",
       "      <td>0.420156</td>\n",
       "      <td>0.002818</td>\n",
       "    </tr>\n",
       "    <tr>\n",
       "      <th>...</th>\n",
       "      <td>...</td>\n",
       "      <td>...</td>\n",
       "      <td>...</td>\n",
       "      <td>...</td>\n",
       "      <td>...</td>\n",
       "      <td>...</td>\n",
       "    </tr>\n",
       "    <tr>\n",
       "      <th>998</th>\n",
       "      <td>14</td>\n",
       "      <td>0</td>\n",
       "      <td>0</td>\n",
       "      <td>1</td>\n",
       "      <td>0.313753</td>\n",
       "      <td>0.000000</td>\n",
       "    </tr>\n",
       "    <tr>\n",
       "      <th>999</th>\n",
       "      <td>15</td>\n",
       "      <td>0</td>\n",
       "      <td>0</td>\n",
       "      <td>1</td>\n",
       "      <td>0.311729</td>\n",
       "      <td>0.000000</td>\n",
       "    </tr>\n",
       "    <tr>\n",
       "      <th>1002</th>\n",
       "      <td>1</td>\n",
       "      <td>0</td>\n",
       "      <td>1</td>\n",
       "      <td>1</td>\n",
       "      <td>0.297983</td>\n",
       "      <td>0.000000</td>\n",
       "    </tr>\n",
       "    <tr>\n",
       "      <th>1003</th>\n",
       "      <td>6</td>\n",
       "      <td>0</td>\n",
       "      <td>0</td>\n",
       "      <td>1</td>\n",
       "      <td>0.298167</td>\n",
       "      <td>0.000000</td>\n",
       "    </tr>\n",
       "    <tr>\n",
       "      <th>1004</th>\n",
       "      <td>22</td>\n",
       "      <td>0</td>\n",
       "      <td>0</td>\n",
       "      <td>1</td>\n",
       "      <td>0.295975</td>\n",
       "      <td>0.000000</td>\n",
       "    </tr>\n",
       "  </tbody>\n",
       "</table>\n",
       "<p>753 rows × 6 columns</p>\n",
       "</div>"
      ],
      "text/plain": [
       "      Department  NeighboursMgmtSameDept  NeighboursMgmt  Degree  \\\n",
       "0              1                       0               6      44   \n",
       "3             21                       9              24      71   \n",
       "4             21                       9              35      96   \n",
       "6             25                       3              34     115   \n",
       "7             14                       4               6      72   \n",
       "...          ...                     ...             ...     ...   \n",
       "998           14                       0               0       1   \n",
       "999           15                       0               0       1   \n",
       "1002           1                       0               1       1   \n",
       "1003           6                       0               0       1   \n",
       "1004          22                       0               0       1   \n",
       "\n",
       "      ClosenessCentrality  BetweennessCentrality  \n",
       "0                0.421991               0.001124  \n",
       "3                0.441663               0.001654  \n",
       "4                0.462152               0.005547  \n",
       "6                0.475805               0.012387  \n",
       "7                0.420156               0.002818  \n",
       "...                   ...                    ...  \n",
       "998              0.313753               0.000000  \n",
       "999              0.311729               0.000000  \n",
       "1002             0.297983               0.000000  \n",
       "1003             0.298167               0.000000  \n",
       "1004             0.295975               0.000000  \n",
       "\n",
       "[753 rows x 6 columns]"
      ]
     },
     "execution_count": 251,
     "metadata": {},
     "output_type": "execute_result"
    }
   ],
   "source": [
    "train_x\n"
   ]
  },
  {
   "cell_type": "code",
   "execution_count": 252,
   "metadata": {},
   "outputs": [
    {
     "data": {
      "text/plain": [
       "0"
      ]
     },
     "execution_count": 252,
     "metadata": {},
     "output_type": "execute_result"
    }
   ],
   "source": [
    "train_y.isna().sum()\n"
   ]
  },
  {
   "cell_type": "code",
   "execution_count": 253,
   "metadata": {},
   "outputs": [
    {
     "data": {
      "text/html": [
       "<style>#sk-container-id-2 {color: black;background-color: white;}#sk-container-id-2 pre{padding: 0;}#sk-container-id-2 div.sk-toggleable {background-color: white;}#sk-container-id-2 label.sk-toggleable__label {cursor: pointer;display: block;width: 100%;margin-bottom: 0;padding: 0.3em;box-sizing: border-box;text-align: center;}#sk-container-id-2 label.sk-toggleable__label-arrow:before {content: \"▸\";float: left;margin-right: 0.25em;color: #696969;}#sk-container-id-2 label.sk-toggleable__label-arrow:hover:before {color: black;}#sk-container-id-2 div.sk-estimator:hover label.sk-toggleable__label-arrow:before {color: black;}#sk-container-id-2 div.sk-toggleable__content {max-height: 0;max-width: 0;overflow: hidden;text-align: left;background-color: #f0f8ff;}#sk-container-id-2 div.sk-toggleable__content pre {margin: 0.2em;color: black;border-radius: 0.25em;background-color: #f0f8ff;}#sk-container-id-2 input.sk-toggleable__control:checked~div.sk-toggleable__content {max-height: 200px;max-width: 100%;overflow: auto;}#sk-container-id-2 input.sk-toggleable__control:checked~label.sk-toggleable__label-arrow:before {content: \"▾\";}#sk-container-id-2 div.sk-estimator input.sk-toggleable__control:checked~label.sk-toggleable__label {background-color: #d4ebff;}#sk-container-id-2 div.sk-label input.sk-toggleable__control:checked~label.sk-toggleable__label {background-color: #d4ebff;}#sk-container-id-2 input.sk-hidden--visually {border: 0;clip: rect(1px 1px 1px 1px);clip: rect(1px, 1px, 1px, 1px);height: 1px;margin: -1px;overflow: hidden;padding: 0;position: absolute;width: 1px;}#sk-container-id-2 div.sk-estimator {font-family: monospace;background-color: #f0f8ff;border: 1px dotted black;border-radius: 0.25em;box-sizing: border-box;margin-bottom: 0.5em;}#sk-container-id-2 div.sk-estimator:hover {background-color: #d4ebff;}#sk-container-id-2 div.sk-parallel-item::after {content: \"\";width: 100%;border-bottom: 1px solid gray;flex-grow: 1;}#sk-container-id-2 div.sk-label:hover label.sk-toggleable__label {background-color: #d4ebff;}#sk-container-id-2 div.sk-serial::before {content: \"\";position: absolute;border-left: 1px solid gray;box-sizing: border-box;top: 0;bottom: 0;left: 50%;z-index: 0;}#sk-container-id-2 div.sk-serial {display: flex;flex-direction: column;align-items: center;background-color: white;padding-right: 0.2em;padding-left: 0.2em;position: relative;}#sk-container-id-2 div.sk-item {position: relative;z-index: 1;}#sk-container-id-2 div.sk-parallel {display: flex;align-items: stretch;justify-content: center;background-color: white;position: relative;}#sk-container-id-2 div.sk-item::before, #sk-container-id-2 div.sk-parallel-item::before {content: \"\";position: absolute;border-left: 1px solid gray;box-sizing: border-box;top: 0;bottom: 0;left: 50%;z-index: -1;}#sk-container-id-2 div.sk-parallel-item {display: flex;flex-direction: column;z-index: 1;position: relative;background-color: white;}#sk-container-id-2 div.sk-parallel-item:first-child::after {align-self: flex-end;width: 50%;}#sk-container-id-2 div.sk-parallel-item:last-child::after {align-self: flex-start;width: 50%;}#sk-container-id-2 div.sk-parallel-item:only-child::after {width: 0;}#sk-container-id-2 div.sk-dashed-wrapped {border: 1px dashed gray;margin: 0 0.4em 0.5em 0.4em;box-sizing: border-box;padding-bottom: 0.4em;background-color: white;}#sk-container-id-2 div.sk-label label {font-family: monospace;font-weight: bold;display: inline-block;line-height: 1.2em;}#sk-container-id-2 div.sk-label-container {text-align: center;}#sk-container-id-2 div.sk-container {/* jupyter's `normalize.less` sets `[hidden] { display: none; }` but bootstrap.min.css set `[hidden] { display: none !important; }` so we also need the `!important` here to be able to override the default hidden behavior on the sphinx rendered scikit-learn.org. See: https://github.com/scikit-learn/scikit-learn/issues/21755 */display: inline-block !important;position: relative;}#sk-container-id-2 div.sk-text-repr-fallback {display: none;}</style><div id=\"sk-container-id-2\" class=\"sk-top-container\"><div class=\"sk-text-repr-fallback\"><pre>RandomForestClassifier(max_depth=20, n_estimators=10000)</pre><b>In a Jupyter environment, please rerun this cell to show the HTML representation or trust the notebook. <br />On GitHub, the HTML representation is unable to render, please try loading this page with nbviewer.org.</b></div><div class=\"sk-container\" hidden><div class=\"sk-item\"><div class=\"sk-estimator sk-toggleable\"><input class=\"sk-toggleable__control sk-hidden--visually\" id=\"sk-estimator-id-2\" type=\"checkbox\" checked><label for=\"sk-estimator-id-2\" class=\"sk-toggleable__label sk-toggleable__label-arrow\">RandomForestClassifier</label><div class=\"sk-toggleable__content\"><pre>RandomForestClassifier(max_depth=20, n_estimators=10000)</pre></div></div></div></div></div>"
      ],
      "text/plain": [
       "RandomForestClassifier(max_depth=20, n_estimators=10000)"
      ]
     },
     "execution_count": 253,
     "metadata": {},
     "output_type": "execute_result"
    }
   ],
   "source": [
    "classifier = RandomForestClassifier(n_estimators = 10_000, max_depth = 20)\n",
    "classifier.fit(train_x, train_y)"
   ]
  },
  {
   "cell_type": "code",
   "execution_count": 254,
   "metadata": {},
   "outputs": [
    {
     "data": {
      "text/plain": [
       "array([0., 1.])"
      ]
     },
     "execution_count": 254,
     "metadata": {},
     "output_type": "execute_result"
    }
   ],
   "source": [
    "classifier.classes_\n"
   ]
  },
  {
   "cell_type": "code",
   "execution_count": 255,
   "metadata": {},
   "outputs": [
    {
     "data": {
      "text/plain": [
       "0     0.0\n",
       "3     1.0\n",
       "4     1.0\n",
       "6     1.0\n",
       "7     0.0\n",
       "9     0.0\n",
       "10    0.0\n",
       "11    0.0\n",
       "12    1.0\n",
       "13    1.0\n",
       "dtype: float64"
      ]
     },
     "execution_count": 255,
     "metadata": {},
     "output_type": "execute_result"
    }
   ],
   "source": [
    "# probability of 1 , probability of 0\n",
    "predictions = pd.Series(classifier.predict(train_x), index = train_x.index)\n",
    "predictions[:10]"
   ]
  },
  {
   "cell_type": "code",
   "execution_count": 256,
   "metadata": {},
   "outputs": [],
   "source": [
    "[one for (zero, one) in classifier.predict_proba(test_x)];\n"
   ]
  },
  {
   "cell_type": "code",
   "execution_count": 257,
   "metadata": {},
   "outputs": [
    {
     "data": {
      "text/plain": [
       "1.0"
      ]
     },
     "execution_count": 257,
     "metadata": {},
     "output_type": "execute_result"
    }
   ],
   "source": [
    "accuracy_score(train_y, predictions)\n"
   ]
  },
  {
   "cell_type": "code",
   "execution_count": 258,
   "metadata": {},
   "outputs": [],
   "source": [
    "ccentrality = sort_dict_values_keys(nx.closeness_centrality(G));\n",
    "bwcentrality = sort_dict_values_keys(nx.betweenness_centrality(G));"
   ]
  },
  {
   "cell_type": "code",
   "execution_count": 259,
   "metadata": {},
   "outputs": [],
   "source": [
    "nx.clustering(G);\n"
   ]
  },
  {
   "cell_type": "code",
   "execution_count": 260,
   "metadata": {},
   "outputs": [],
   "source": [
    "df = pd.DataFrame(index = G.nodes())\n",
    "df['clustering'] = pd.Series(nx.clustering(G))\n",
    "df['degree'] = pd.Series(dict(nx.degree(G)))\n",
    "df['dcentrality'] = pd.Series(nx.degree_centrality(G))\n",
    "df['ccentrality'] = pd.Series(nx.closeness_centrality(G, wf_improved = True))\n",
    "df['bcentrality'] = pd.Series(nx.betweenness_centrality(G, normalized = True))\n",
    "df['prank'] = pd.Series(nx.pagerank(G))\n",
    "df['is_management'] = pd.Series(list(nx.get_node_attributes(G,'ManagementSalary').values()))\n",
    "features = ['clustering', 'degree', 'dcentrality', 'ccentrality', 'bcentrality', 'prank']"
   ]
  },
  {
   "cell_type": "code",
   "execution_count": 261,
   "metadata": {},
   "outputs": [
    {
     "data": {
      "text/html": [
       "<div>\n",
       "<style scoped>\n",
       "    .dataframe tbody tr th:only-of-type {\n",
       "        vertical-align: middle;\n",
       "    }\n",
       "\n",
       "    .dataframe tbody tr th {\n",
       "        vertical-align: top;\n",
       "    }\n",
       "\n",
       "    .dataframe thead th {\n",
       "        text-align: right;\n",
       "    }\n",
       "</style>\n",
       "<table border=\"1\" class=\"dataframe\">\n",
       "  <thead>\n",
       "    <tr style=\"text-align: right;\">\n",
       "      <th></th>\n",
       "      <th>clustering</th>\n",
       "      <th>degree</th>\n",
       "      <th>dcentrality</th>\n",
       "      <th>ccentrality</th>\n",
       "      <th>bcentrality</th>\n",
       "      <th>prank</th>\n",
       "      <th>is_management</th>\n",
       "    </tr>\n",
       "  </thead>\n",
       "  <tbody>\n",
       "    <tr>\n",
       "      <th>0</th>\n",
       "      <td>0.276423</td>\n",
       "      <td>44</td>\n",
       "      <td>0.043825</td>\n",
       "      <td>0.421991</td>\n",
       "      <td>0.001124</td>\n",
       "      <td>0.001224</td>\n",
       "      <td>0.0</td>\n",
       "    </tr>\n",
       "    <tr>\n",
       "      <th>1</th>\n",
       "      <td>0.265306</td>\n",
       "      <td>52</td>\n",
       "      <td>0.051793</td>\n",
       "      <td>0.422360</td>\n",
       "      <td>0.001195</td>\n",
       "      <td>0.001426</td>\n",
       "      <td>NaN</td>\n",
       "    </tr>\n",
       "    <tr>\n",
       "      <th>581</th>\n",
       "      <td>0.248276</td>\n",
       "      <td>32</td>\n",
       "      <td>0.031873</td>\n",
       "      <td>0.412974</td>\n",
       "      <td>0.000378</td>\n",
       "      <td>0.000894</td>\n",
       "      <td>NaN</td>\n",
       "    </tr>\n",
       "    <tr>\n",
       "      <th>6</th>\n",
       "      <td>0.155183</td>\n",
       "      <td>115</td>\n",
       "      <td>0.114542</td>\n",
       "      <td>0.475805</td>\n",
       "      <td>0.012387</td>\n",
       "      <td>0.003146</td>\n",
       "      <td>0.0</td>\n",
       "    </tr>\n",
       "    <tr>\n",
       "      <th>65</th>\n",
       "      <td>0.172880</td>\n",
       "      <td>91</td>\n",
       "      <td>0.090637</td>\n",
       "      <td>0.461049</td>\n",
       "      <td>0.012473</td>\n",
       "      <td>0.002857</td>\n",
       "      <td>0.0</td>\n",
       "    </tr>\n",
       "    <tr>\n",
       "      <th>...</th>\n",
       "      <td>...</td>\n",
       "      <td>...</td>\n",
       "      <td>...</td>\n",
       "      <td>...</td>\n",
       "      <td>...</td>\n",
       "      <td>...</td>\n",
       "      <td>...</td>\n",
       "    </tr>\n",
       "    <tr>\n",
       "      <th>798</th>\n",
       "      <td>0.000000</td>\n",
       "      <td>2</td>\n",
       "      <td>0.001992</td>\n",
       "      <td>0.000000</td>\n",
       "      <td>0.000000</td>\n",
       "      <td>0.000995</td>\n",
       "      <td>0.0</td>\n",
       "    </tr>\n",
       "    <tr>\n",
       "      <th>808</th>\n",
       "      <td>0.000000</td>\n",
       "      <td>2</td>\n",
       "      <td>0.001992</td>\n",
       "      <td>0.000000</td>\n",
       "      <td>0.000000</td>\n",
       "      <td>0.000995</td>\n",
       "      <td>NaN</td>\n",
       "    </tr>\n",
       "    <tr>\n",
       "      <th>965</th>\n",
       "      <td>0.000000</td>\n",
       "      <td>1</td>\n",
       "      <td>0.000996</td>\n",
       "      <td>0.277769</td>\n",
       "      <td>0.000000</td>\n",
       "      <td>0.000182</td>\n",
       "      <td>0.0</td>\n",
       "    </tr>\n",
       "    <tr>\n",
       "      <th>973</th>\n",
       "      <td>0.000000</td>\n",
       "      <td>1</td>\n",
       "      <td>0.000996</td>\n",
       "      <td>0.305327</td>\n",
       "      <td>0.000000</td>\n",
       "      <td>0.000177</td>\n",
       "      <td>0.0</td>\n",
       "    </tr>\n",
       "    <tr>\n",
       "      <th>975</th>\n",
       "      <td>0.000000</td>\n",
       "      <td>1</td>\n",
       "      <td>0.000996</td>\n",
       "      <td>0.305327</td>\n",
       "      <td>0.000000</td>\n",
       "      <td>0.000177</td>\n",
       "      <td>0.0</td>\n",
       "    </tr>\n",
       "  </tbody>\n",
       "</table>\n",
       "<p>1005 rows × 7 columns</p>\n",
       "</div>"
      ],
      "text/plain": [
       "     clustering  degree  dcentrality  ccentrality  bcentrality     prank  \\\n",
       "0      0.276423      44     0.043825     0.421991     0.001124  0.001224   \n",
       "1      0.265306      52     0.051793     0.422360     0.001195  0.001426   \n",
       "581    0.248276      32     0.031873     0.412974     0.000378  0.000894   \n",
       "6      0.155183     115     0.114542     0.475805     0.012387  0.003146   \n",
       "65     0.172880      91     0.090637     0.461049     0.012473  0.002857   \n",
       "..          ...     ...          ...          ...          ...       ...   \n",
       "798    0.000000       2     0.001992     0.000000     0.000000  0.000995   \n",
       "808    0.000000       2     0.001992     0.000000     0.000000  0.000995   \n",
       "965    0.000000       1     0.000996     0.277769     0.000000  0.000182   \n",
       "973    0.000000       1     0.000996     0.305327     0.000000  0.000177   \n",
       "975    0.000000       1     0.000996     0.305327     0.000000  0.000177   \n",
       "\n",
       "     is_management  \n",
       "0              0.0  \n",
       "1              NaN  \n",
       "581            NaN  \n",
       "6              0.0  \n",
       "65             0.0  \n",
       "..             ...  \n",
       "798            0.0  \n",
       "808            NaN  \n",
       "965            0.0  \n",
       "973            0.0  \n",
       "975            0.0  \n",
       "\n",
       "[1005 rows x 7 columns]"
      ]
     },
     "execution_count": 261,
     "metadata": {},
     "output_type": "execute_result"
    }
   ],
   "source": [
    "df"
   ]
  },
  {
   "cell_type": "code",
   "execution_count": 262,
   "metadata": {},
   "outputs": [
    {
     "ename": "NameError",
     "evalue": "name 'X_train_scaled' is not defined",
     "output_type": "error",
     "traceback": [
      "\u001b[0;31m---------------------------------------------------------------------------\u001b[0m",
      "\u001b[0;31mNameError\u001b[0m                                 Traceback (most recent call last)",
      "Cell \u001b[0;32mIn [262], line 11\u001b[0m\n\u001b[1;32m      9\u001b[0m test_x_normed \u001b[38;5;241m=\u001b[39m scaler\u001b[38;5;241m.\u001b[39mtransform(test_x)\n\u001b[1;32m     10\u001b[0m clf \u001b[38;5;241m=\u001b[39m MLPClassifier(hidden_layer_sizes \u001b[38;5;241m=\u001b[39m [\u001b[38;5;241m10\u001b[39m, \u001b[38;5;241m5\u001b[39m], alpha \u001b[38;5;241m=\u001b[39m \u001b[38;5;241m5\u001b[39m, random_state \u001b[38;5;241m=\u001b[39m \u001b[38;5;241m0\u001b[39m, solver \u001b[38;5;241m=\u001b[39m \u001b[38;5;124m'\u001b[39m\u001b[38;5;124mlbfgs\u001b[39m\u001b[38;5;124m'\u001b[39m, verbose \u001b[38;5;241m=\u001b[39m \u001b[38;5;28;01mFalse\u001b[39;00m)\n\u001b[0;32m---> 11\u001b[0m clf\u001b[38;5;241m.\u001b[39mfit(\u001b[43mX_train_scaled\u001b[49m, y_train)\n\u001b[1;32m     13\u001b[0m test_proba \u001b[38;5;241m=\u001b[39m [one \u001b[38;5;28;01mfor\u001b[39;00m (zero, one) \u001b[38;5;129;01min\u001b[39;00m clf\u001b[38;5;241m.\u001b[39mpredict_proba(X_test_scaled)]\n\u001b[1;32m     16\u001b[0m pd\u001b[38;5;241m.\u001b[39mSeries(test_proba, X_test\u001b[38;5;241m.\u001b[39mindex)\n",
      "\u001b[0;31mNameError\u001b[0m: name 'X_train_scaled' is not defined"
     ]
    }
   ],
   "source": [
    "train_df = df.loc[~df['is_management'].isna(), :]\n",
    "test_df = df.loc[df['is_management'].isna(), :]\n",
    "\n",
    "train_x = train_df.loc[:, features]\n",
    "train_y = train_df.loc[:, 'is_management']\n",
    "test_x = test_df.loc[:, features]\n",
    "scaler = MinMaxScaler()\n",
    "train_x_normed = scaler.fit_transform(train_x)\n",
    "test_x_normed = scaler.transform(test_x)\n",
    "clf = MLPClassifier(hidden_layer_sizes = [10, 5], alpha = 5, random_state = 0, solver = 'lbfgs', verbose = False)\n",
    "clf.fit(X_train_scaled, y_train)\n",
    "\n",
    "test_proba = [one for (zero, one) in clf.predict_proba(X_test_scaled)]\n",
    "    \n",
    "    \n",
    "pd.Series(test_proba, X_test.index) "
   ]
  },
  {
   "cell_type": "code",
   "execution_count": 273,
   "metadata": {
    "deletable": false,
    "nbgrader": {
     "cell_type": "code",
     "checksum": "7923c33da469542ff6e642a304dce099",
     "grade": false,
     "grade_id": "cell-c1ae7e7278c56f0c",
     "locked": false,
     "schema_version": 3,
     "solution": true,
     "task": false
    }
   },
   "outputs": [],
   "source": [
    "def salary_predictions():\n",
    "    \n",
    "    from sklearn.preprocessing import MinMaxScaler\n",
    "    from sklearn.neural_network import MLPClassifier\n",
    "    \n",
    "\n",
    "    df = pd.DataFrame(index = G.nodes())\n",
    "    df['clustering'] = pd.Series(nx.clustering(G))\n",
    "    df['degree'] = pd.Series(dict(nx.degree(G)))\n",
    "    df['dcentrality'] = pd.Series(nx.degree_centrality(G))\n",
    "    df['ccentrality'] = pd.Series(nx.closeness_centrality(G, wf_improved = True))\n",
    "    df['bcentrality'] = pd.Series(nx.betweenness_centrality(G, normalized = True))\n",
    "    df['prank'] = pd.Series(nx.pagerank(G))\n",
    "    df['is_management'] = pd.Series(list(nx.get_node_attributes(G,'ManagementSalary').values()))\n",
    "\n",
    "\n",
    "    features = ['clustering', 'degree', 'dcentrality', 'ccentrality', 'bcentrality', 'prank']\n",
    "    \n",
    "    train_df = df.loc[~df['is_management'].isna(), :]\n",
    "    test_df = df.loc[df['is_management'].isna(), :]\n",
    "    \n",
    "    train_x = train_df.loc[:, features]\n",
    "    train_y = train_df.loc[:, 'is_management']\n",
    "    test_x = test_df.loc[:, features]\n",
    "\n",
    "\n",
    "    scaler = MinMaxScaler()\n",
    "    train_x_normed = scaler.fit_transform(train_x)\n",
    "    test_x_normed = scaler.transform(test_x)\n",
    "\n",
    "\n",
    "    clf = MLPClassifier(hidden_layer_sizes = [10, 5], alpha = 5, random_state = 0, solver = 'lbfgs', verbose = False)\n",
    "    clf.fit(train_x_normed, train_y)\n",
    "\n",
    "    test_prob = [one for (zero, one) in clf.predict_proba(test_x_normed)]\n",
    "    \n",
    "    \n",
    "    return pd.Series(test_prob, test_x.index) "
   ]
  },
  {
   "cell_type": "code",
   "execution_count": 274,
   "metadata": {},
   "outputs": [
    {
     "data": {
      "text/plain": [
       "1      0.179061\n",
       "581    0.161161\n",
       "18     0.187215\n",
       "215    0.229121\n",
       "88     0.160872\n",
       "         ...   \n",
       "691    0.081412\n",
       "703    0.081412\n",
       "788    0.119807\n",
       "744    0.081412\n",
       "808    0.081412\n",
       "Length: 252, dtype: float64"
      ]
     },
     "execution_count": 274,
     "metadata": {},
     "output_type": "execute_result"
    }
   ],
   "source": [
    "salary_predictions()\n"
   ]
  },
  {
   "cell_type": "code",
   "execution_count": 286,
   "metadata": {},
   "outputs": [],
   "source": [
    "def salary_predictions():\n",
    "    \n",
    "    from sklearn.ensemble import RandomForestClassifier\n",
    "\n",
    "    dep = nx.get_node_attributes(G, \"Department\")\n",
    "    mgmt_salary = nx.get_node_attributes(G, \"ManagementSalary\")\n",
    "    degrees = dict(nx.degree(G))\n",
    "    ccentrality = nx.closeness_centrality(G)\n",
    "    bwcentrality = nx.betweenness_centrality(G)\n",
    "    \n",
    "    neighbours_with_mgmt_salary = dict.fromkeys(G.nodes(), 0)\n",
    "    node_mgmt_attrs = nx.get_node_attributes(G, \"ManagementSalary\")\n",
    "\n",
    "    for node in G.nodes():\n",
    "        for neighbour in nx.neighbors(G, node):\n",
    "            if node_mgmt_attrs.get(neighbour) == 1:\n",
    "                neighbours_with_mgmt_salary[node] += 1\n",
    "    \n",
    "    # number of neighbours from the same department who also receive a management salary\n",
    "\n",
    "    neighbours_with_mgmt_salary_same_dept = dict.fromkeys(G.nodes(), 0)\n",
    "    node_mgmt_attrs = nx.get_node_attributes(G, \"ManagementSalary\")\n",
    "    node_dept_attrs = nx.get_node_attributes(G, \"Department\")\n",
    "\n",
    "    for node in G.nodes():\n",
    "        for neighbour in nx.neighbors(G, node):\n",
    "            if (node_mgmt_attrs.get(neighbour) == 1) and (node_dept_attrs.get(node) == node_dept_attrs.get(neighbour)):\n",
    "                neighbours_with_mgmt_salary_same_dept[node] += 1\n",
    "                \n",
    "    def sort_dict_values_keys(dictionary: dict) -> list:\n",
    "        return [val for (key, val) in sorted(dictionary.items(), reverse = False)]\n",
    "    \n",
    "    employees = pd.DataFrame({\"Department\": sort_dict_values_keys(dep), \"ManagementSalary\": sort_dict_values_keys(mgmt_salary),\n",
    "             \"NeighboursMgmtSameDept\": sort_dict_values_keys(neighbours_with_mgmt_salary_same_dept),\n",
    "            \"NeighboursMgmt\": sort_dict_values_keys(neighbours_with_mgmt_salary), \"Degree\": sort_dict_values_keys(degrees),\n",
    "            \"ClosenessCentrality\": sort_dict_values_keys(ccentrality), \"BetweennessCentrality\": sort_dict_values_keys(bwcentrality)})\n",
    "    \n",
    "    train_x = employees.dropna(axis = 0).drop(\"ManagementSalary\", axis = 1)\n",
    "    train_y = employees.dropna(axis = 0).loc[:, \"ManagementSalary\"]\n",
    "    test_x = employees.loc[employees.ManagementSalary.isna(), :].drop(\"ManagementSalary\", axis = 1)\n",
    "    \n",
    "    classifier = RandomForestClassifier(n_estimators = 1000)\n",
    "    classifier.fit(train_x, train_y)\n",
    "    \n",
    "    # probability of 0 , probability of 1\n",
    "    prob_mgmt_salary = pd.Series([yes for (no, yes) in classifier.predict_proba(test_x)], index = test_x.index)\n",
    "    return prob_mgmt_salary"
   ]
  },
  {
   "cell_type": "code",
   "execution_count": 287,
   "metadata": {},
   "outputs": [
    {
     "data": {
      "text/plain": [
       "1       0.048\n",
       "2       0.977\n",
       "5       1.000\n",
       "8       0.207\n",
       "14      0.191\n",
       "        ...  \n",
       "992     0.000\n",
       "994     0.000\n",
       "996     0.000\n",
       "1000    0.001\n",
       "1001    0.011\n",
       "Length: 252, dtype: float64"
      ]
     },
     "execution_count": 287,
     "metadata": {},
     "output_type": "execute_result"
    }
   ],
   "source": [
    "salary_predictions()"
   ]
  },
  {
   "cell_type": "code",
   "execution_count": 288,
   "metadata": {
    "deletable": false,
    "editable": false,
    "nbgrader": {
     "cell_type": "code",
     "checksum": "25615bc140cf5f8b7049928438419a81",
     "grade": true,
     "grade_id": "cell-bc9c23e7517908ab",
     "locked": true,
     "points": 1,
     "schema_version": 3,
     "solution": false,
     "task": false
    }
   },
   "outputs": [],
   "source": [
    "ans_salary_preds = salary_predictions()\n",
    "assert type(ans_salary_preds) == pd.core.series.Series, \"You must return a Pandas series\"\n",
    "assert len(ans_salary_preds) == 252, \"The series must be of length 252\"\n"
   ]
  },
  {
   "cell_type": "code",
   "execution_count": 289,
   "metadata": {},
   "outputs": [
    {
     "data": {
      "text/plain": [
       "1       0.057\n",
       "2       0.968\n",
       "5       1.000\n",
       "8       0.221\n",
       "14      0.213\n",
       "        ...  \n",
       "992     0.001\n",
       "994     0.000\n",
       "996     0.000\n",
       "1000    0.000\n",
       "1001    0.009\n",
       "Length: 252, dtype: float64"
      ]
     },
     "execution_count": 289,
     "metadata": {},
     "output_type": "execute_result"
    }
   ],
   "source": [
    "ans_salary_preds\n"
   ]
  },
  {
   "cell_type": "markdown",
   "metadata": {
    "deletable": false,
    "editable": false,
    "nbgrader": {
     "cell_type": "markdown",
     "checksum": "01ee118d34018c23ed12b93790c65e49",
     "grade": false,
     "grade_id": "cell-636bdc6669fbdf2f",
     "locked": true,
     "schema_version": 3,
     "solution": false,
     "task": false
    }
   },
   "source": [
    "### Part 2B - New Connections Prediction\n",
    "\n",
    "For the last part of this assignment, you will predict future connections between employees of the network. The future connections information has been loaded into the variable `future_connections`. The index is a tuple indicating a pair of nodes that currently do not have a connection, and the `Future Connection` column indicates if an edge between those two nodes will exist in the future, where a value of 1.0 indicates a future connection."
   ]
  },
  {
   "cell_type": "code",
   "execution_count": 22,
   "metadata": {
    "deletable": false,
    "editable": false,
    "nbgrader": {
     "cell_type": "code",
     "checksum": "6ae78d5616c6a6fba11b22d9bf5c9bac",
     "grade": false,
     "grade_id": "cell-23900b187593a4a6",
     "locked": true,
     "schema_version": 3,
     "solution": false,
     "task": false
    }
   },
   "outputs": [
    {
     "data": {
      "text/html": [
       "<div>\n",
       "<style scoped>\n",
       "    .dataframe tbody tr th:only-of-type {\n",
       "        vertical-align: middle;\n",
       "    }\n",
       "\n",
       "    .dataframe tbody tr th {\n",
       "        vertical-align: top;\n",
       "    }\n",
       "\n",
       "    .dataframe thead th {\n",
       "        text-align: right;\n",
       "    }\n",
       "</style>\n",
       "<table border=\"1\" class=\"dataframe\">\n",
       "  <thead>\n",
       "    <tr style=\"text-align: right;\">\n",
       "      <th></th>\n",
       "      <th>Future Connection</th>\n",
       "    </tr>\n",
       "  </thead>\n",
       "  <tbody>\n",
       "    <tr>\n",
       "      <th>(6, 840)</th>\n",
       "      <td>0.0</td>\n",
       "    </tr>\n",
       "    <tr>\n",
       "      <th>(4, 197)</th>\n",
       "      <td>0.0</td>\n",
       "    </tr>\n",
       "    <tr>\n",
       "      <th>(620, 979)</th>\n",
       "      <td>0.0</td>\n",
       "    </tr>\n",
       "    <tr>\n",
       "      <th>(519, 872)</th>\n",
       "      <td>0.0</td>\n",
       "    </tr>\n",
       "    <tr>\n",
       "      <th>(382, 423)</th>\n",
       "      <td>0.0</td>\n",
       "    </tr>\n",
       "    <tr>\n",
       "      <th>(97, 226)</th>\n",
       "      <td>1.0</td>\n",
       "    </tr>\n",
       "    <tr>\n",
       "      <th>(349, 905)</th>\n",
       "      <td>0.0</td>\n",
       "    </tr>\n",
       "    <tr>\n",
       "      <th>(429, 860)</th>\n",
       "      <td>0.0</td>\n",
       "    </tr>\n",
       "    <tr>\n",
       "      <th>(309, 989)</th>\n",
       "      <td>0.0</td>\n",
       "    </tr>\n",
       "    <tr>\n",
       "      <th>(468, 880)</th>\n",
       "      <td>0.0</td>\n",
       "    </tr>\n",
       "  </tbody>\n",
       "</table>\n",
       "</div>"
      ],
      "text/plain": [
       "            Future Connection\n",
       "(6, 840)                  0.0\n",
       "(4, 197)                  0.0\n",
       "(620, 979)                0.0\n",
       "(519, 872)                0.0\n",
       "(382, 423)                0.0\n",
       "(97, 226)                 1.0\n",
       "(349, 905)                0.0\n",
       "(429, 860)                0.0\n",
       "(309, 989)                0.0\n",
       "(468, 880)                0.0"
      ]
     },
     "execution_count": 22,
     "metadata": {},
     "output_type": "execute_result"
    }
   ],
   "source": [
    "future_connections = pd.read_csv('assets/Future_Connections.csv', index_col=0, converters={0: eval})\n",
    "future_connections.head(10)"
   ]
  },
  {
   "cell_type": "markdown",
   "metadata": {
    "deletable": false,
    "editable": false,
    "nbgrader": {
     "cell_type": "markdown",
     "checksum": "24c7b4c993f6a3300acc98b46d49f81b",
     "grade": false,
     "grade_id": "cell-2d5376bc66158f80",
     "locked": true,
     "schema_version": 3,
     "solution": false,
     "task": false
    }
   },
   "source": [
    "Using network `G` and `future_connections`, identify the edges in `future_connections` with missing values and predict whether or not these edges will have a future connection.\n",
    "\n",
    "To accomplish this, you will need to:      \n",
    "1. Create a matrix of features of your choice for the edges found in `future_connections` using Networkx     \n",
    "2. Train a sklearn classifier on those edges in `future_connections` that have `Future Connection` data     \n",
    "3. Predict a probability of the edge being a future connection for those edges in `future_connections` where `Future Connection` is missing.\n",
    "\n",
    "\n",
    "\n",
    "Your predictions will need to be given as the probability of the corresponding edge being a future connection.\n",
    "\n",
    "The evaluation metric for this assignment is the Area Under the ROC Curve (AUC).\n",
    "\n",
    "Your grade will be based on the AUC score computed for your classifier. A model which with an AUC of 0.75 or higher will recieve full points.\n",
    "\n",
    "Using your trained classifier, return a series of length 122112 with the data being the probability of the edge being a future connection, and the index being the edge as represented by a tuple of nodes.\n",
    "\n",
    "    Example:\n",
    "    \n",
    "        (107, 348)    0.35\n",
    "        (542, 751)    0.40\n",
    "        (20, 426)     0.55\n",
    "        (50, 989)     0.35\n",
    "                  ...\n",
    "        (939, 940)    0.15\n",
    "        (555, 905)    0.35\n",
    "        (75, 101)     0.65\n",
    "        Length: 122112, dtype: float64"
   ]
  },
  {
   "cell_type": "code",
   "execution_count": null,
   "metadata": {
    "deletable": false,
    "nbgrader": {
     "cell_type": "code",
     "checksum": "aa635313ab21384aefd0e005c28f8a9d",
     "grade": false,
     "grade_id": "cell-63e0f775d43cc2e4",
     "locked": false,
     "schema_version": 3,
     "solution": true,
     "task": false
    }
   },
   "outputs": [
    {
     "data": {
      "text/plain": [
       "(107, 348)    0.031823\n",
       "(542, 751)    0.012931\n",
       "(20, 426)     0.543026\n",
       "(50, 989)     0.013104\n",
       "(942, 986)    0.013103\n",
       "                ...   \n",
       "(165, 923)    0.013183\n",
       "(673, 755)    0.013103\n",
       "(939, 940)    0.013103\n",
       "(555, 905)    0.012931\n",
       "(75, 101)     0.017730\n",
       "Length: 122112, dtype: float64"
      ]
     },
     "execution_count": 24,
     "metadata": {},
     "output_type": "execute_result"
    }
   ],
   "source": [
    "def new_connections_predictions():\n",
    "    \n",
    "    from sklearn.ensemble import GradientBoostingClassifier\n",
    "    \n",
    "    future_connections['pref_attachment'] = [list(nx.preferential_attachment(G, [node_pair]))[0][2]\n",
    "                                             for node_pair in future_connections.index]\n",
    "    future_connections['comm_neighbors'] = [len(list(nx.common_neighbors(G, node_pair[0], node_pair[1]))) \n",
    "                                            for node_pair in future_connections.index]\n",
    "    train_data = future_connections[~future_connections['Future Connection'].isnull()]\n",
    "    test_data = future_connections[future_connections['Future Connection'].isnull()]\n",
    "    clf = GradientBoostingClassifier()\n",
    "    clf.fit(train_data[['pref_attachment','comm_neighbors']].values, train_data['Future Connection'].values)\n",
    "    preds = clf.predict_proba(test_data[['pref_attachment','comm_neighbors']].values)[:,1]\n",
    "    return pd.Series(preds, index=test_data.index)\n",
    "\n",
    "new_connections_predictions()"
   ]
  },
  {
   "cell_type": "code",
   "execution_count": null,
   "metadata": {
    "deletable": false,
    "editable": false,
    "nbgrader": {
     "cell_type": "code",
     "checksum": "1551f972fbe01646fda6b8679026970b",
     "grade": true,
     "grade_id": "cell-979b4a17d794f3d0",
     "locked": true,
     "points": 1,
     "schema_version": 3,
     "solution": false,
     "task": false
    }
   },
   "outputs": [],
   "source": [
    "ans_prob_preds = new_connections_predictions()\n",
    "assert type(ans_prob_preds) == pd.core.series.Series, \"You must return a Pandas series\"\n",
    "assert len(ans_prob_preds) == 122112, \"The series must be of length 122112\"\n"
   ]
  },
  {
   "cell_type": "code",
   "execution_count": null,
   "metadata": {},
   "outputs": [],
   "source": []
  }
 ],
 "metadata": {
  "kernelspec": {
   "display_name": "Python 3 (ipykernel)",
   "language": "python",
   "name": "python3"
  },
  "language_info": {
   "codemirror_mode": {
    "name": "ipython",
    "version": 3
   },
   "file_extension": ".py",
   "mimetype": "text/x-python",
   "name": "python",
   "nbconvert_exporter": "python",
   "pygments_lexer": "ipython3",
   "version": "3.9.13"
  }
 },
 "nbformat": 4,
 "nbformat_minor": 4
}
